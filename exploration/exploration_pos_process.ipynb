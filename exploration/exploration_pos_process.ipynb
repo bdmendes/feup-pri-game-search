{
   "cells": [
      {
         "cell_type": "markdown",
         "metadata": {},
         "source": [
            "# Data Exploration - Pos Processed Dataset"
         ]
      },
      {
         "cell_type": "code",
         "execution_count": null,
         "metadata": {},
         "outputs": [],
         "source": [
            "import pandas as pd\n",
            "import matplotlib.pyplot as plt\n",
            "import numpy as np\n",
            "\n",
            "processed_data = pd.read_csv('../data/processed.csv')"
         ]
      },
      {
         "cell_type": "markdown",
         "metadata": {},
         "source": [
            "### Missing values"
         ]
      },
      {
         "cell_type": "code",
         "execution_count": null,
         "metadata": {},
         "outputs": [],
         "source": [
            "pd.options.mode.use_inf_as_na = True\n",
            "\n",
            "def print_missing_values(data):\n",
            "    print('Missing values: \\n')\n",
            "    for i in data:\n",
            "        count = 0\n",
            "        for j in data[i]:\n",
            "            if j == 'None' or j == None or j == '' or j == ' ':\n",
            "                count += 1\n",
            "        if (count != 0):\n",
            "            print(f'{i}: {count} ; {round(count / len(data) * 100, 2)}%')"
         ]
      },
      {
         "cell_type": "markdown",
         "metadata": {},
         "source": [
            "##### Processed dataset"
         ]
      },
      {
         "cell_type": "code",
         "execution_count": null,
         "metadata": {},
         "outputs": [],
         "source": [
            "print_missing_values(processed_data)"
         ]
      },
      {
         "cell_type": "code",
         "execution_count": null,
         "metadata": {},
         "outputs": [],
         "source": [
            "from wordcloud import WordCloud\n",
            "\n",
            "# Start with one review:\n",
            "text = ' '.join(x for x in processed_data['PromotionalDescription'])\n",
            "\n",
            "# Create and generate a word cloud image:\n",
            "wordcloud = WordCloud(width=800, height=400,max_font_size=200, max_words=100, background_color=\"white\").generate(text)\n",
            "plt.figure( figsize=(12,6) )\n",
            "# Display the generated image:\n",
            "plt.imshow(wordcloud, interpolation='bilinear')\n",
            "plt.axis(\"off\")\n",
            "\n",
            "plt.title('Wordcloud of games description', fontsize=20)    \n",
            "plt.show()"
         ]
      },
      {
         "cell_type": "code",
         "execution_count": null,
         "metadata": {},
         "outputs": [],
         "source": [
            "x = sorted(list(set(x[-4:] if x[-4:].isnumeric() else '0' for x in processed_data['ReleaseDate'])))[1:]\n",
            "processed_data['year'] = processed_data['ReleaseDate'].apply(lambda x: int(x[-4:] if x[-4:].isnumeric() else 0))\n",
            "y = processed_data.groupby('year').size().reset_index()\n",
            "\n",
            "y = list(y[0])[1:]\n",
            "\n",
            "plt.figure( figsize=(12,6) )\n",
            "\n",
            "plt.xlabel('Year')\n",
            "plt.ylabel('Number of games')\n",
            "plt.title('Number of games released per year')\n",
            "plt.bar(x[8:-2], y[8:-2])\n",
            "\n",
            "print(\"\", end='')"
         ]
      },
      {
         "cell_type": "code",
         "execution_count": null,
         "metadata": {},
         "outputs": [],
         "source": [
            "x = list(x[-4:] if x[-4:].isnumeric() else '-1' for x in processed_data['ReleaseDate'])\n",
            "y = [y for y in processed_data['Metacritic']]\n",
            "\n",
            "names = sorted(list(set(x[-4:] if x[-4:].isnumeric() else '0' for x in processed_data['ReleaseDate'])))[1:]\n",
            "\n",
            "dic = {}\n",
            "\n",
            "for i in range(0, len(x)):\n",
            "    if (y[i] != 0):\n",
            "        if (x[i] in dic):\n",
            "            dic[x[i]].append(y[i])\n",
            "        else:\n",
            "            dic[x[i]] = [y[i]]\n",
            "\n",
            "data = []\n",
            "\n",
            "for i in sorted(dic.keys()):\n",
            "    if (int(i) > 2005 and int(i) < 2017):\n",
            "        data.append(dic[i])\n",
            "\n",
            "plt.figure( figsize=(12,6) )\n",
            "\n",
            "plt.title('Games metacritic score per year')\n",
            "plt.xlabel('Year')\n",
            "plt.ylabel('Metacritic score')\n",
            "\n",
            "plt.boxplot(data, labels=names[8:-3])\n",
            "\n",
            "print(\"\", end='')"
         ]
      }
   ],
   "metadata": {
      "kernelspec": {
         "display_name": "Python 3.10.7 64-bit",
         "language": "python",
         "name": "python3"
      },
      "language_info": {
         "codemirror_mode": {
            "name": "ipython",
            "version": 3
         },
         "file_extension": ".py",
         "mimetype": "text/x-python",
         "name": "python",
         "nbconvert_exporter": "python",
         "pygments_lexer": "ipython3",
         "version": "3.11.0"
      },
      "orig_nbformat": 4,
      "vscode": {
         "interpreter": {
            "hash": "e7370f93d1d0cde622a1f8e1c04877d8463912d04d973331ad4851f04de6915a"
         }
      }
   },
   "nbformat": 4,
   "nbformat_minor": 2
}
