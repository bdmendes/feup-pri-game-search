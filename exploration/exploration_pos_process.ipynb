{
 "cells": [
  {
   "cell_type": "markdown",
   "metadata": {},
   "source": [
    "# Data Exploration - Pos Processed Dataset"
   ]
  },
  {
   "cell_type": "code",
   "execution_count": 3,
   "metadata": {},
   "outputs": [],
   "source": [
    "import pandas as pd\n",
    "\n",
    "processed_data = pd.read_csv('../data/processed_new.csv')"
   ]
  },
  {
   "cell_type": "markdown",
   "metadata": {},
   "source": [
    "### Missing values"
   ]
  },
  {
   "cell_type": "code",
   "execution_count": 4,
   "metadata": {},
   "outputs": [],
   "source": [
    "pd.options.mode.use_inf_as_na = True\n",
    "\n",
    "def print_missing_values(data):\n",
    "    print('Missing values: \\n')\n",
    "    for i in data:\n",
    "        count = 0\n",
    "        for j in data[i]:\n",
    "            if j == 'None' or j == None or j == '' or j == ' ':\n",
    "                count += 1\n",
    "        if (count != 0):\n",
    "            print(f'{i}: {count} ; {round(count / len(data) * 100, 2)}%')"
   ]
  },
  {
   "cell_type": "markdown",
   "metadata": {},
   "source": [
    "##### Processed dataset"
   ]
  },
  {
   "cell_type": "code",
   "execution_count": 5,
   "metadata": {},
   "outputs": [
    {
     "name": "stdout",
     "output_type": "stream",
     "text": [
      "Missing values: \n",
      "\n",
      "ReleaseDate: 87 ; 0.66%\n",
      "PromotionalDescription: 658 ; 4.98%\n",
      "Website: 3232 ; 24.47%\n",
      "PCMinReqsText: 728 ; 5.51%\n",
      "PCRecReqsText: 7444 ; 56.36%\n",
      "LinuxMinReqsText: 10157 ; 76.9%\n",
      "LinuxRecReqsText: 12008 ; 90.91%\n",
      "MacMinReqsText: 8611 ; 65.2%\n",
      "MacRecReqsText: 11481 ; 86.92%\n",
      "wikiData: 11053 ; 83.68%\n"
     ]
    }
   ],
   "source": [
    "print_missing_values(processed_data)"
   ]
  }
 ],
 "metadata": {
  "kernelspec": {
   "display_name": "Python 3.10.7 64-bit",
   "language": "python",
   "name": "python3"
  },
  "language_info": {
   "codemirror_mode": {
    "name": "ipython",
    "version": 3
   },
   "file_extension": ".py",
   "mimetype": "text/x-python",
   "name": "python",
   "nbconvert_exporter": "python",
   "pygments_lexer": "ipython3",
   "version": "3.10.7"
  },
  "orig_nbformat": 4,
  "vscode": {
   "interpreter": {
    "hash": "e7370f93d1d0cde622a1f8e1c04877d8463912d04d973331ad4851f04de6915a"
   }
  }
 },
 "nbformat": 4,
 "nbformat_minor": 2
}
