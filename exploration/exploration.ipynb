{
 "cells": [
  {
   "cell_type": "markdown",
   "metadata": {},
   "source": [
    "# Data Exploration"
   ]
  },
  {
   "cell_type": "code",
   "execution_count": 16,
   "metadata": {},
   "outputs": [],
   "source": [
    "import pandas as pd\n",
    "\n",
    "original_data = pd.read_csv('../data/original.csv')\n",
    "processed_data = pd.read_csv('../data/processed.csv')"
   ]
  },
  {
   "cell_type": "markdown",
   "metadata": {},
   "source": [
    "### Missing values"
   ]
  },
  {
   "cell_type": "code",
   "execution_count": 17,
   "metadata": {},
   "outputs": [],
   "source": [
    "pd.options.mode.use_inf_as_na = True\n",
    "\n",
    "def print_missing_values(data):\n",
    "    print('Missing values: \\n')\n",
    "    for i in data:\n",
    "        count = 0\n",
    "        for j in data[i]:\n",
    "            if j == 'None' or j == None or j == '' or j == ' ':\n",
    "                count += 1\n",
    "        if (count != 0):\n",
    "            print(f'{i}: {count} ; {round(count / len(data) * 100, 2)}%')"
   ]
  },
  {
   "cell_type": "markdown",
   "metadata": {},
   "source": [
    "##### Original dataset"
   ]
  },
  {
   "cell_type": "code",
   "execution_count": 18,
   "metadata": {},
   "outputs": [
    {
     "name": "stdout",
     "output_type": "stream",
     "text": [
      "Missing values: \n",
      "\n",
      "ReleaseDate: 87 ; 0.65%\n",
      "PriceCurrency: 2618 ; 19.6%\n",
      "SupportEmail: 3518 ; 26.34%\n",
      "SupportURL: 5204 ; 38.96%\n",
      "AboutText: 662 ; 4.96%\n",
      "Background: 701 ; 5.25%\n",
      "ShortDescrip: 1862 ; 13.94%\n",
      "DetailedDescrip: 658 ; 4.93%\n",
      "DRMNotice: 13272 ; 99.36%\n",
      "ExtUserAcctNotice: 13202 ; 98.84%\n",
      "LegalNotice: 7812 ; 58.49%\n",
      "Reviews: 10043 ; 75.19%\n",
      "SupportedLanguages: 35 ; 0.26%\n",
      "Website: 3268 ; 24.47%\n",
      "PCMinReqsText: 728 ; 5.45%\n",
      "PCRecReqsText: 7555 ; 56.56%\n",
      "LinuxMinReqsText: 10293 ; 77.06%\n",
      "LinuxRecReqsText: 12151 ; 90.97%\n",
      "MacMinReqsText: 8725 ; 65.32%\n",
      "MacRecReqsText: 11619 ; 86.99%\n"
     ]
    }
   ],
   "source": [
    "print_missing_values(original_data)"
   ]
  },
  {
   "cell_type": "markdown",
   "metadata": {},
   "source": [
    "##### Processed dataset"
   ]
  },
  {
   "cell_type": "code",
   "execution_count": 19,
   "metadata": {},
   "outputs": [
    {
     "name": "stdout",
     "output_type": "stream",
     "text": [
      "Missing values: \n",
      "\n",
      "ReleaseDate: 87 ; 0.66%\n",
      "DetailedDescrip: 658 ; 4.98%\n",
      "Website: 3232 ; 24.47%\n",
      "PCMinReqsText: 728 ; 5.51%\n",
      "PCRecReqsText: 7444 ; 56.36%\n",
      "LinuxMinReqsText: 10157 ; 76.9%\n",
      "LinuxRecReqsText: 12008 ; 90.91%\n",
      "MacMinReqsText: 8611 ; 65.2%\n",
      "MacRecReqsText: 11481 ; 86.92%\n"
     ]
    }
   ],
   "source": [
    "print_missing_values(processed_data)"
   ]
  }
 ],
 "metadata": {
  "kernelspec": {
   "display_name": "Python 3.10.7 64-bit",
   "language": "python",
   "name": "python3"
  },
  "language_info": {
   "codemirror_mode": {
    "name": "ipython",
    "version": 3
   },
   "file_extension": ".py",
   "mimetype": "text/x-python",
   "name": "python",
   "nbconvert_exporter": "python",
   "pygments_lexer": "ipython3",
   "version": "3.10.7"
  },
  "orig_nbformat": 4,
  "vscode": {
   "interpreter": {
    "hash": "e7370f93d1d0cde622a1f8e1c04877d8463912d04d973331ad4851f04de6915a"
   }
  }
 },
 "nbformat": 4,
 "nbformat_minor": 2
}
